{
 "cells": [
  {
   "cell_type": "code",
   "execution_count": 1,
   "metadata": {},
   "outputs": [],
   "source": [
    "import matplotlib.pyplot as plt\n",
    "import numpy as np\n",
    "import pymc4 as pm\n",
    "import tensorflow as tf\n",
    "import tensorflow_probability as tfp\n",
    "from tensorflow_probability.python.internal import prefer_static\n",
    "from tensorflow_probability.python.mcmc.transformed_kernel import make_transformed_log_prob"
   ]
  },
  {
   "cell_type": "code",
   "execution_count": 2,
   "metadata": {},
   "outputs": [],
   "source": [
    "RANDOM_SEED = 8927\n",
    "np.random.seed(RANDOM_SEED)\n",
    "plt.style.use('arviz-darkgrid')\n",
    "\n",
    "dtype = tf.float32\n",
    "tfb = tfp.bijectors\n",
    "tfd = tfp.distributions"
   ]
  },
  {
   "cell_type": "code",
   "execution_count": 3,
   "metadata": {},
   "outputs": [],
   "source": [
    "# Generating data\n",
    "mu = 12\n",
    "sigma = 2.2\n",
    "data = np.random.normal(mu, sigma, size=200)"
   ]
  },
  {
   "cell_type": "code",
   "execution_count": 4,
   "metadata": {},
   "outputs": [],
   "source": [
    "# Defining the model\n",
    "model = tfd.JointDistributionSequential([\n",
    "    # sigma_prior\n",
    "    tfd.Exponential(1),\n",
    "\n",
    "    # mu_prior\n",
    "    tfd.Normal(loc=0, scale=10),\n",
    "\n",
    "    # likelihood\n",
    "    lambda mu, sigma: tfd.Normal(loc=mu, scale=sigma, name=\"ll\")\n",
    "])"
   ]
  },
  {
   "cell_type": "code",
   "execution_count": 5,
   "metadata": {},
   "outputs": [
    {
     "name": "stdout",
     "output_type": "stream",
     "text": [
      "(('sigma', ()), ('mu', ()), ('ll', ('mu', 'sigma')))\n"
     ]
    }
   ],
   "source": [
    "print(model.resolve_graph())"
   ]
  },
  {
   "cell_type": "code",
   "execution_count": 6,
   "metadata": {},
   "outputs": [],
   "source": [
    "# Let's generate joint log probability\n",
    "joint_log_prob = lambda *samples: model.log_prob(samples + (data,))"
   ]
  },
  {
   "cell_type": "code",
   "execution_count": 7,
   "metadata": {},
   "outputs": [],
   "source": [
    "contraining_bijectors = [\n",
    "  tfb.Exp(),\n",
    "  tfb.Identity()\n",
    "]\n",
    "\n",
    "def make_transformed_log_prob(joint_log_prob, contraining_bijectors):\n",
    "    \n",
    "    def transformed_log_prob(samples):\n",
    "        constrained_samples = list()\n",
    "        for bij, sample in zip(contraining_bijectors, samples):\n",
    "            constrained_samples.append(bij.forward(sample))\n",
    "\n",
    "        tlp = joint_log_prob(*constrained_samples)\n",
    "        tlp_rank = prefer_static.rank(tlp) \n",
    "        event_ndims = [(prefer_static.rank(sp) - tlp_rank) for sp in samples]\n",
    "        ldj = sum([\n",
    "            bij.forward_log_det_jacobian(s, event_ndims=e)\n",
    "            for bij, s, e in zip(contraining_bijectors, samples, event_ndims)\n",
    "        ])\n",
    "        return tlp + ldj\n",
    "    return transformed_log_prob\n",
    "\n",
    "\n",
    "transformed_log_prob = make_transformed_log_prob(joint_log_prob, contraining_bijectors)"
   ]
  },
  {
   "cell_type": "code",
   "execution_count": 8,
   "metadata": {},
   "outputs": [],
   "source": [
    "# Build Mean Field ADVI\n",
    "def build_mf_advi():\n",
    "    parameters = model.sample(1)\n",
    "    parameters.pop()\n",
    "    dists = []\n",
    "    for i, parameter in enumerate(parameters):\n",
    "        shape = parameter[0].shape\n",
    "        loc = tf.Variable(\n",
    "            tf.random.normal(shape, dtype=dtype),\n",
    "            name=f'meanfield_{i}_loc',\n",
    "            dtype=dtype\n",
    "        )\n",
    "        scale = tfp.util.TransformedVariable(\n",
    "            tf.fill(shape, value=tf.constant(0.02, dtype=dtype)),\n",
    "            tfb.Softplus(), # For positive values of scale\n",
    "            name=f'meanfield_{i}_scale'\n",
    "        )\n",
    "\n",
    "        approx_parameter = tfd.Normal(loc=loc, scale=scale)\n",
    "        dists.append(approx_parameter)\n",
    "    return tfd.JointDistributionSequential(dists)\n",
    "\n",
    "meanfield_advi = build_mf_advi()"
   ]
  },
  {
   "cell_type": "code",
   "execution_count": 9,
   "metadata": {},
   "outputs": [],
   "source": [
    "def loss_fn(posterior, target_log_prob):\n",
    "    samples = posterior.sample(1)\n",
    "    samples = posterior.log_prob(samples) - target_log_prob(samples)\n",
    "    return tf.reduce_mean(samples, axis=0)  # Monte carlo expectation"
   ]
  },
  {
   "cell_type": "code",
   "execution_count": 10,
   "metadata": {},
   "outputs": [],
   "source": [
    "opt = tf.optimizers.Adam(learning_rate=.1)\n",
    "\n",
    "@tf.function(autograph=False)\n",
    "def optimizer_fn():\n",
    "    with tf.GradientTape() as tape:\n",
    "        loss = loss_fn(meanfield_advi, transformed_log_prob)\n",
    "\n",
    "    watched_variables = tape.watched_variables()\n",
    "    grads = tape.gradient(loss, watched_variables)\n",
    "    train_op = opt.apply_gradients(zip(grads, watched_variables))\n",
    "    with tf.control_dependencies([train_op]):\n",
    "        return tf.identity(loss)"
   ]
  },
  {
   "cell_type": "code",
   "execution_count": 11,
   "metadata": {},
   "outputs": [],
   "source": [
    "num_steps = 10_000\n",
    "initial_loss = optimizer_fn()\n",
    "traced_loss = tf.TensorArray(\n",
    "    dtype=initial_loss.dtype,\n",
    "    size=num_steps,\n",
    "    clear_after_read=False,\n",
    "    element_shape=initial_loss.shape,\n",
    ")\n",
    "traced_loss = traced_loss.write(0, initial_loss)"
   ]
  },
  {
   "cell_type": "code",
   "execution_count": 12,
   "metadata": {},
   "outputs": [],
   "source": [
    "def loop_body(step, traced_loss):\n",
    "    loss = optimizer_fn()\n",
    "    traced_loss = traced_loss.write(step, loss)\n",
    "    return [step+1, traced_loss]"
   ]
  },
  {
   "cell_type": "code",
   "execution_count": 13,
   "metadata": {},
   "outputs": [],
   "source": [
    "with tf.control_dependencies([initial_loss]):\n",
    "    indices, traced_loss = tf.while_loop(\n",
    "        cond=lambda *x: True,\n",
    "        body=loop_body,\n",
    "        loop_vars=[1, traced_loss],\n",
    "        parallel_iterations=1,\n",
    "        maximum_iterations=num_steps - 1\n",
    "    )"
   ]
  },
  {
   "cell_type": "code",
   "execution_count": 14,
   "metadata": {},
   "outputs": [
    {
     "data": {
      "text/plain": [
       "[<tf.Tensor: shape=(), dtype=float32, numpy=0.6821357>,\n",
       " <tf.Tensor: shape=(), dtype=float32, numpy=12.083846>]"
      ]
     },
     "execution_count": 14,
     "metadata": {},
     "output_type": "execute_result"
    }
   ],
   "source": [
    "meanfield_advi.mean()"
   ]
  },
  {
   "cell_type": "code",
   "execution_count": 17,
   "metadata": {},
   "outputs": [
    {
     "data": {
      "image/png": "[encoded data removed]",
      "text/plain": [
       "<Figure size 720x480 with 1 Axes>"
      ]
     },
     "metadata": {},
     "output_type": "display_data"
    }
   ],
   "source": [
    "plt.plot(traced_loss.stack().numpy())\n",
    "plt.yscale('log')"
   ]
  },
  {
   "cell_type": "code",
   "execution_count": 18,
   "metadata": {},
   "outputs": [
    {
     "name": "stdout",
     "output_type": "stream",
     "text": [
      "The watermark extension is already loaded. To reload it, use:\n",
      "  %reload_ext watermark\n",
      "numpy                  1.18.5\n",
      "tensorflow_probability 0.12.0-dev20201001\n",
      "pymc4                  4.0a2\n",
      "tensorflow             2.4.0-dev20201001\n",
      "last updated: Mon Oct 05 2020 \n",
      "\n",
      "CPython 3.8.6\n",
      "IPython 7.18.1\n",
      "watermark 2.0.2\n"
     ]
    }
   ],
   "source": [
    "%load_ext watermark\n",
    "%watermark -n -u -v -iv -w"
   ]
  }
 ],
 "metadata": {
  "kernelspec": {
   "display_name": "Python 3",
   "language": "python",
   "name": "python3"
  },
  "language_info": {
   "codemirror_mode": {
    "name": "ipython",
    "version": 3
   },
   "file_extension": ".py",
   "mimetype": "text/x-python",
   "name": "python",
   "nbconvert_exporter": "python",
   "pygments_lexer": "ipython3",
   "version": "3.8.6"
  }
 },
 "nbformat": 4,
 "nbformat_minor": 4
}
