{
 "cells": [
  {
   "cell_type": "code",
   "execution_count": 1,
   "metadata": {},
   "outputs": [],
   "source": [
    "import matplotlib.pyplot as plt\n",
    "import numpy as np\n",
    "import pymc4 as pm\n",
    "import tensorflow as tf\n",
    "import tensorflow_probability as tfp\n",
    "from tensorflow_probability.python.mcmc.transformed_kernel import (\n",
    "    make_transform_fn, make_transformed_log_prob)\n",
    "tfd = tfp.distributions\n",
    "tfb = tfp.bijectors\n",
    "plt.style.use('arviz-darkgrid')"
   ]
  },
  {
   "cell_type": "code",
   "execution_count": 2,
   "metadata": {},
   "outputs": [],
   "source": [
    "np.random.seed(42)\n",
    "unknown_mean = -5\n",
    "known_sigma = 3\n",
    "data_points = 1000\n",
    "data = np.random.normal(unknown_mean, known_sigma, size=data_points)\n",
    "prior_mean = 4\n",
    "prior_sigma = 2\n",
    "\n",
    "# References - http://patricklam.org/teaching/conjugacy_print.pdf\n",
    "precision = 1 / prior_sigma ** 2 + data_points / known_sigma ** 2\n",
    "estimated_mean = (\n",
    "    prior_mean / prior_sigma ** 2 + (data_points * np.mean(data) / known_sigma ** 2)\n",
    ") / precision"
   ]
  },
  {
   "cell_type": "code",
   "execution_count": 3,
   "metadata": {},
   "outputs": [],
   "source": [
    "tf_model = tfd.JointDistributionSequential([\n",
    "    tfd.Normal(prior_mean, prior_sigma),\n",
    "    lambda mu: tfd.Normal(mu, known_sigma)\n",
    "])"
   ]
  },
  {
   "cell_type": "code",
   "execution_count": 4,
   "metadata": {},
   "outputs": [],
   "source": [
    "def model(x):\n",
    "    mu_prior = tf.math.exp(-(((x - prior_mean)/prior_sigma)**2)/2)/(np.sqrt(2*np.pi*(prior_sigma**2)))\n",
    "    ll = mu_prior = tf.math.exp(-(((data - mu_prior)/known_sigma)**2)/2)/(np.sqrt(2*np.pi*(known_sigma**2)))\n",
    "    return sum(map(tf.reduce_sum, [\n",
    "        tf.math.log(mu_prior),\n",
    "        tf.math.log(ll)\n",
    "    ]))"
   ]
  },
  {
   "cell_type": "code",
   "execution_count": 5,
   "metadata": {},
   "outputs": [],
   "source": [
    "joint_log_prob = lambda *samples: model(*samples)\n",
    "joint_log_prob_tfp = lambda *samples: tf_model.log_prob(samples + (data,))"
   ]
  },
  {
   "cell_type": "code",
   "execution_count": 6,
   "metadata": {},
   "outputs": [],
   "source": [
    "trainable_normal = tfd.Normal(\n",
    "    loc=tf.Variable(tf.random.normal([], dtype=tf.float32)),\n",
    "    scale=tfp.util.TransformedVariable(1., bijector=tfb.Softplus(), dtype=tf.float32))\n",
    "\n",
    "opt = pm.updates.adam()"
   ]
  },
  {
   "cell_type": "code",
   "execution_count": 7,
   "metadata": {},
   "outputs": [],
   "source": [
    "def loss_fn():\n",
    "    samples = trainable_normal.sample()\n",
    "    samples = trainable_normal.log_prob(samples) - joint_log_prob(samples)\n",
    "    return tf.reduce_mean(samples)  # Monte carlo expectation"
   ]
  },
  {
   "cell_type": "code",
   "execution_count": 8,
   "metadata": {},
   "outputs": [],
   "source": [
    "@tf.function(autograph=False)\n",
    "def optimizer_fn():\n",
    "    with tf.GradientTape() as tape:\n",
    "        loss = loss_fn()\n",
    "\n",
    "    watched_variables = tape.watched_variables()\n",
    "    grads = tape.gradient(loss, watched_variables)\n",
    "    train_op = opt.apply_gradients(zip(grads, watched_variables))\n",
    "    with tf.control_dependencies([train_op]):\n",
    "        return tf.identity(loss)"
   ]
  },
  {
   "cell_type": "code",
   "execution_count": 9,
   "metadata": {},
   "outputs": [],
   "source": [
    "num_steps = 10_000\n",
    "initial_loss = optimizer_fn()\n",
    "traced_loss = tf.TensorArray(\n",
    "    dtype=initial_loss.dtype,\n",
    "    size=num_steps,\n",
    "    clear_after_read=False,\n",
    "    element_shape=initial_loss.shape,\n",
    ")\n",
    "traced_loss = traced_loss.write(0, initial_loss)"
   ]
  },
  {
   "cell_type": "code",
   "execution_count": 10,
   "metadata": {},
   "outputs": [],
   "source": [
    "def loop_body(step, traced_loss):\n",
    "    loss = optimizer_fn()\n",
    "    traced_loss = traced_loss.write(step, loss)\n",
    "    return [step+1, traced_loss]"
   ]
  },
  {
   "cell_type": "code",
   "execution_count": 11,
   "metadata": {},
   "outputs": [],
   "source": [
    "with tf.control_dependencies([initial_loss]):\n",
    "    indices, traced_loss = tf.while_loop(\n",
    "        cond=lambda *x: True,\n",
    "        body=loop_body,\n",
    "        loop_vars=[1, traced_loss],\n",
    "        parallel_iterations=1,\n",
    "        maximum_iterations=num_steps - 1\n",
    "    )"
   ]
  },
  {
   "cell_type": "code",
   "execution_count": 12,
   "metadata": {},
   "outputs": [
    {
     "data": {
      "text/plain": [
       "<tf.Tensor: shape=(), dtype=float32, numpy=-4.157138>"
      ]
     },
     "execution_count": 12,
     "metadata": {},
     "output_type": "execute_result"
    }
   ],
   "source": [
    "trainable_normal.mean()"
   ]
  },
  {
   "cell_type": "code",
   "execution_count": 13,
   "metadata": {},
   "outputs": [
    {
     "data": {
      "text/plain": [
       "[<matplotlib.lines.Line2D at 0x7f84ec034b50>]"
      ]
     },
     "execution_count": 13,
     "metadata": {},
     "output_type": "execute_result"
    },
    {
     "data": {
      "image/png": "[encoded data removed]",
      "text/plain": [
       "<Figure size 720x480 with 1 Axes>"
      ]
     },
     "metadata": {},
     "output_type": "display_data"
    }
   ],
   "source": [
    "plt.plot(traced_loss.stack().numpy())\n",
    "# plt.yscale('log')"
   ]
  },
  {
   "cell_type": "code",
   "execution_count": 15,
   "metadata": {},
   "outputs": [
    {
     "data": {
      "text/plain": [
       "-4.921929491177873"
      ]
     },
     "execution_count": 15,
     "metadata": {},
     "output_type": "execute_result"
    }
   ],
   "source": [
    "estimated_mean"
   ]
  },
  {
   "cell_type": "code",
   "execution_count": null,
   "metadata": {},
   "outputs": [],
   "source": [
    "@pm.model\n",
    "def model():\n",
    "    mu = yield pm.Normal('mu', prior_mean, prior_sigma)\n",
    "    ll = yield pm.Normal('ll', mu, known_sigma, observed=data)"
   ]
  },
  {
   "cell_type": "code",
   "execution_count": null,
   "metadata": {},
   "outputs": [],
   "source": [
    "samples = advi.approximation.approx.sample(10)"
   ]
  },
  {
   "cell_type": "code",
   "execution_count": null,
   "metadata": {},
   "outputs": [],
   "source": [
    "advi.approximation.target_log_prob(samples)"
   ]
  },
  {
   "cell_type": "code",
   "execution_count": null,
   "metadata": {},
   "outputs": [],
   "source": []
  },
  {
   "cell_type": "code",
   "execution_count": null,
   "metadata": {},
   "outputs": [],
   "source": [
    "advi = pm.fit(model(), sample_size=10)"
   ]
  },
  {
   "cell_type": "code",
   "execution_count": null,
   "metadata": {},
   "outputs": [],
   "source": [
    "plt.plot(advi[1])\n",
    "plt.yscale('log')"
   ]
  },
  {
   "cell_type": "code",
   "execution_count": null,
   "metadata": {},
   "outputs": [],
   "source": [
    "mu = 12\n",
    "sigma = 2.2\n",
    "data = np.random.normal(mu, sigma, size=200)"
   ]
  },
  {
   "cell_type": "code",
   "execution_count": null,
   "metadata": {},
   "outputs": [],
   "source": [
    "# Defining the model\n",
    "model = tfd.JointDistributionSequential([\n",
    "    # sigma_prior\n",
    "    tfd.Exponential(1, name='sigma'),\n",
    "\n",
    "    # mu_prior\n",
    "    tfd.Normal(loc=0, scale=10, name='mu'),\n",
    "\n",
    "    # likelihood\n",
    "    lambda mu, sigma: tfd.Normal(loc=mu, scale=sigma)\n",
    "])"
   ]
  },
  {
   "cell_type": "code",
   "execution_count": null,
   "metadata": {},
   "outputs": [],
   "source": [
    "joint_log_prob = lambda *x: model.log_prob(x + (data,))\n",
    "dtype = tf.float32"
   ]
  },
  {
   "cell_type": "code",
   "execution_count": null,
   "metadata": {},
   "outputs": [],
   "source": [
    "# Build Mean Field ADVI\n",
    "def build_mf_advi():\n",
    "    parameters = model.sample(1)\n",
    "    parameters.pop()\n",
    "    dists = []\n",
    "    for i, parameter in enumerate(parameters):\n",
    "        shape = parameter[0].shape\n",
    "        loc = tf.Variable(\n",
    "            tf.random.normal(shape, dtype=dtype),\n",
    "            name=f'meanfield_{i}_loc',\n",
    "            dtype=dtype\n",
    "        )\n",
    "        scale = tfp.util.TransformedVariable(\n",
    "            tf.fill(shape, value=tf.constant(0.02, dtype=dtype)),\n",
    "            tfb.Softplus(), # For positive values of scale\n",
    "            name=f'meanfield_{i}_scale'\n",
    "        )\n",
    "\n",
    "        approx_parameter = tfd.Normal(loc=loc, scale=scale)\n",
    "        dists.append(approx_parameter)\n",
    "    return tfd.JointDistributionSequential(dists)\n",
    "\n",
    "meanfield_advi = build_mf_advi()"
   ]
  },
  {
   "cell_type": "code",
   "execution_count": null,
   "metadata": {},
   "outputs": [],
   "source": [
    "unconstraining_bijectors = [\n",
    "  tfb.Exp(),\n",
    "  tfb.Identity()\n",
    "]\n",
    "\n",
    "posterior = make_transformed_log_prob(\n",
    "    joint_log_prob,\n",
    "    unconstraining_bijectors,\n",
    "    direction='forward',\n",
    "    enable_bijector_caching=False\n",
    ")"
   ]
  },
  {
   "cell_type": "code",
   "execution_count": null,
   "metadata": {},
   "outputs": [],
   "source": [
    "opt = tf.optimizers.Adam(learning_rate=.1)\n",
    "\n",
    "@tf.function(autograph=False)\n",
    "def run_approximation():\n",
    "    elbo_loss = tfp.vi.fit_surrogate_posterior(\n",
    "        posterior,\n",
    "        surrogate_posterior=meanfield_advi,\n",
    "        optimizer=opt,\n",
    "        sample_size=2,\n",
    "        num_steps=10000)\n",
    "    return elbo_loss\n",
    "\n",
    "elbo_loss = run_approximation()"
   ]
  },
  {
   "cell_type": "code",
   "execution_count": null,
   "metadata": {},
   "outputs": [],
   "source": [
    "plt.plot(elbo_loss, color='blue')\n",
    "plt.yscale(\"log\")\n",
    "plt.xlabel(\"No of iterations\")\n",
    "plt.ylabel(\"Negative ELBO\")\n",
    "plt.show()\n"
   ]
  },
  {
   "cell_type": "code",
   "execution_count": null,
   "metadata": {},
   "outputs": [],
   "source": []
  }
 ],
 "metadata": {
  "kernelspec": {
   "display_name": "Python 3",
   "language": "python",
   "name": "python3"
  },
  "language_info": {
   "codemirror_mode": {
    "name": "ipython",
    "version": 3
   },
   "file_extension": ".py",
   "mimetype": "text/x-python",
   "name": "python",
   "nbconvert_exporter": "python",
   "pygments_lexer": "ipython3",
   "version": "3.8.6"
  }
 },
 "nbformat": 4,
 "nbformat_minor": 4
}
